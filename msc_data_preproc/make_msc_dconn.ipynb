{
 "cells": [
  {
   "cell_type": "markdown",
   "id": "7c2d26da",
   "metadata": {},
   "source": [
    "# Make Vertex-Wise Connectivity Matrices in `.dconn` format with Midnight Scan Club Data"
   ]
  },
  {
   "cell_type": "code",
   "execution_count": 1,
   "id": "036f9354",
   "metadata": {},
   "outputs": [],
   "source": [
    "import neuropythy as ny\n",
    "import numpy as np\n",
    "import os\n",
    "import json\n",
    "import gc\n",
    "import glob\n",
    "import nibabel as nib"
   ]
  },
  {
   "cell_type": "markdown",
   "id": "85ef151b",
   "metadata": {},
   "source": [
    "## Function for readaing in one Cifti file in `dtseries.nii` format and writing out the connectivity matrix as a `.dconn.nii` file\n",
    "\n",
    "* Use nibabel to load in Cifti2\n",
    "* Make correlation matrix with numpy from the vertex-wise timseries data\n",
    "* Replace the data in the Cifti2 file with the correlation matrix, header based on previous header\n",
    "* Write out new Cifti2 `.dconn.nii` file"
   ]
  },
  {
   "cell_type": "code",
   "execution_count": 2,
   "id": "215079fa",
   "metadata": {},
   "outputs": [],
   "source": [
    "def make_dconn_correlation_matrix_msc(filename):# The filename we are loading in:\n",
    "    print(f'Preparing to make dconn file for {filename}')\n",
    "    # Get the subject and load the CIFTI file\n",
    "    cii = nib.cifti2.load(filename)\n",
    "    bold = cii.dataobj # just get the whole matrix, don't split it\n",
    "    \n",
    "    \n",
    "    print('Making correlation matrix...')\n",
    "    # Calculate the correlation coefficients (takes 1-2 minutes)\n",
    "    r = np.corrcoef(bold, rowvar=False, dtype=np.float32)\n",
    "    del bold\n",
    "    \n",
    "    # To make a new CIFTI we need to change the CIFTI axes from time x vertices\n",
    "    # to vertices x vertices:\n",
    "    print('Making new cifti...')\n",
    "    brain_axis = cii.header.get_axis(1)\n",
    "    new_cii = nib.cifti2.Cifti2Image(r, header=(brain_axis, brain_axis), nifti_header=cii.nifti_header)\n",
    "    \n",
    "    del r\n",
    "    del cii\n",
    "    gc.collect()\n",
    "\n",
    "   \n",
    "    # Write out the filename\n",
    "    print('Saving dconn...')\n",
    "    outfile_ext = filename.replace('dtseries', 'dconn')\n",
    "    new_cii.to_filename(outfile_ext)\n",
    "    print('Done!')\n",
    "    \n",
    "    # to save memory\n",
    "    del new_cii\n",
    "    gc.collect()"
   ]
  },
  {
   "cell_type": "markdown",
   "id": "2e99df9a",
   "metadata": {},
   "source": [
    "## Get list of msc_files"
   ]
  },
  {
   "cell_type": "code",
   "execution_count": 3,
   "id": "a434113c",
   "metadata": {},
   "outputs": [
    {
     "data": {
      "text/plain": [
       "['sub01_cifti2.dtseries.nii']"
      ]
     },
     "execution_count": 3,
     "metadata": {},
     "output_type": "execute_result"
    }
   ],
   "source": [
    "msc_files = glob.glob('*dtseries.nii')\n",
    "msc_files"
   ]
  },
  {
   "cell_type": "code",
   "execution_count": 4,
   "id": "cd64e938",
   "metadata": {},
   "outputs": [],
   "source": [
    "# test and make sure can be loaded as cifti!\n",
    "#test_file = nib.cifti2.load(msc_files[0])"
   ]
  },
  {
   "cell_type": "markdown",
   "id": "c31ad4e9",
   "metadata": {},
   "source": [
    "## Run function to make connectivity matrices"
   ]
  },
  {
   "cell_type": "code",
   "execution_count": 5,
   "id": "35dfe657",
   "metadata": {},
   "outputs": [
    {
     "name": "stderr",
     "output_type": "stream",
     "text": [
      "vox offset (=5.21799e+06) not divisible by 16, not SPM compatible; leaving at current value\n"
     ]
    },
    {
     "name": "stdout",
     "output_type": "stream",
     "text": [
      "Preparing to make dconn file for sub01_cifti2.dtseries.nii\n"
     ]
    },
    {
     "name": "stderr",
     "output_type": "stream",
     "text": [
      "/home/ubuntu/miniconda3/envs/networks/lib/python3.8/site-packages/nibabel/nifti1.py:588: UserWarning: Extension size is not a multiple of 16 bytes; Assuming size is correct and hoping for the best\n",
      "  warnings.warn(\n",
      "vox offset (=5.21799e+06) not divisible by 16, not SPM compatible; leaving at current value\n"
     ]
    },
    {
     "name": "stdout",
     "output_type": "stream",
     "text": [
      "Making correlation matrix...\n",
      "Making new cifti...\n",
      "Saving dconn...\n",
      "Done!\n"
     ]
    }
   ],
   "source": [
    "for i in msc_files:\n",
    "    make_dconn_correlation_matrix_msc(msc_files[i])"
   ]
  },
  {
   "cell_type": "code",
   "execution_count": null,
   "id": "4bd63201",
   "metadata": {},
   "outputs": [],
   "source": []
  }
 ],
 "metadata": {
  "kernelspec": {
   "display_name": "Python 3 (ipykernel)",
   "language": "python",
   "name": "python3"
  },
  "language_info": {
   "codemirror_mode": {
    "name": "ipython",
    "version": 3
   },
   "file_extension": ".py",
   "mimetype": "text/x-python",
   "name": "python",
   "nbconvert_exporter": "python",
   "pygments_lexer": "ipython3",
   "version": "3.8.10"
  }
 },
 "nbformat": 4,
 "nbformat_minor": 5
}
